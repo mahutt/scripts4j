{
 "cells": [
  {
   "cell_type": "code",
   "execution_count": null,
   "id": "1c38006a",
   "metadata": {},
   "outputs": [],
   "source": [
    "import pandas as pd\n",
    "from scipy import stats\n",
    "\n",
    "closure_df = pd.read_csv(\"output/Closure_analysis.csv\")\n",
    "math_df = pd.read_csv(\"output/Math_analysis.csv\")\n",
    "jd_df = pd.read_csv(\"output/JacksonDatabind_analysis.csv\")\n",
    "\n",
    "from IPython.display import Markdown as md"
   ]
  },
  {
   "cell_type": "code",
   "execution_count": null,
   "id": "55766d87",
   "metadata": {},
   "outputs": [],
   "source": [
    "closure_cov_array = closure_df[\"Condition Coverage\"]\n",
    "closure_mut_array = closure_df[\"Mutation Score\"]\n",
    "closure_bool_array = closure_df[\"Bug Present\"] == True\n",
    "\n",
    "math_cov_array = math_df[\"Condition Coverage\"]\n",
    "math_mut_array = math_df[\"Mutation Score\"]\n",
    "math_bool_array = math_df[\"Bug Present\"] == True\n",
    "\n",
    "jd_cov_array = jd_df[\"Condition Coverage\"]\n",
    "jd_mut_array = jd_df[\"Mutation Score\"]\n",
    "jd_bool_array = jd_df[\"Bug Present\"] == True"
   ]
  },
  {
   "cell_type": "code",
   "execution_count": null,
   "id": "136727db",
   "metadata": {},
   "outputs": [],
   "source": [
    "closure_pb_cov = stats.pointbiserialr(closure_cov_array, closure_bool_array)\n",
    "\n",
    "md(\n",
    "f\"\"\"\n",
    "We calculate a Point-Biserial Correlation coefficient of\\\\\n",
    "r = ${closure_pb_cov[0]}$ with p-value\\\\\n",
    "p = ${closure_pb_cov[1]}$ for coverage and bugs existing in Closure.\n",
    "\"\"\"\n",
    ")"
   ]
  },
  {
   "cell_type": "code",
   "execution_count": null,
   "id": "065fe562",
   "metadata": {},
   "outputs": [],
   "source": [
    "closure_pb_mut = stats.pointbiserialr(closure_mut_array, closure_bool_array)\n",
    "\n",
    "md(\n",
    "f\"\"\"\n",
    "We calculate a Point-Biserial Correlation coefficient of\\\\\n",
    "r = ${closure_pb_mut[0]}$ with p-value\\\\\n",
    "p = ${closure_pb_mut[1]}$ for mutation score and bugs existing in Closure.\n",
    "\"\"\"\n",
    ")"
   ]
  },
  {
   "cell_type": "code",
   "execution_count": null,
   "id": "7060a062",
   "metadata": {},
   "outputs": [],
   "source": [
    "math_pb_cov = stats.pointbiserialr(math_cov_array, math_bool_array)\n",
    "\n",
    "md(\n",
    "f\"\"\"\n",
    "We calculate a Point-Biserial Correlation coefficient of\\\\\n",
    "r = ${math_pb_cov[0]}$ with p-value\\\\\n",
    "p = ${math_pb_cov[1]}$ for coverage and bugs existing in Math.\n",
    "\"\"\"\n",
    ")"
   ]
  },
  {
   "cell_type": "code",
   "execution_count": null,
   "id": "936311bd",
   "metadata": {},
   "outputs": [],
   "source": [
    "\n",
    "math_pb_mut = stats.pointbiserialr(math_mut_array, math_bool_array)\n",
    "\n",
    "md(\n",
    "f\"\"\"\n",
    "We calculate a Point-Biserial Correlation coefficient of\\\\\n",
    "r = ${math_pb_mut[0]}$ with p-value\\\\\n",
    "p = ${math_pb_mut[1]}$ for mutation score and bugs existing in Math.\n",
    "\"\"\"\n",
    ")"
   ]
  },
  {
   "cell_type": "code",
   "execution_count": null,
   "id": "f1f0556b",
   "metadata": {},
   "outputs": [],
   "source": [
    "jd_pb_cov = stats.pointbiserialr(jd_cov_array, jd_bool_array)\n",
    "\n",
    "md(\n",
    "f\"\"\"\n",
    "We calculate a Point-Biserial Correlation coefficient of\\\\\n",
    "r = ${jd_pb_cov[0]}$ with p-value\\\\\n",
    "p = ${jd_pb_cov[1]}$ for coverage and bugs existing in JacksonDatabind.\n",
    "\"\"\"\n",
    ")\n"
   ]
  },
  {
   "cell_type": "code",
   "execution_count": null,
   "id": "28cefd31",
   "metadata": {},
   "outputs": [],
   "source": [
    "jd_pb_mut = stats.pointbiserialr(jd_mut_array, jd_bool_array)\n",
    "\n",
    "md(\n",
    "f\"\"\"\n",
    "We calculate a Point-Biserial Correlation coefficient of\\\\\n",
    "r = ${jd_pb_cov[0]}$ with p-value\\\\\n",
    "p = ${jd_pb_mut[1]}$ for mutation score and bugs existing in JacksonDatabind.\n",
    "\"\"\"\n",
    ")"
   ]
  },
  {
   "cell_type": "code",
   "execution_count": null,
   "id": "fffce3fe",
   "metadata": {},
   "outputs": [],
   "source": [
    "combined_df = pd.concat([closure_df, math_df, jd_df])\n",
    "\n",
    "combined_cov_array = combined_df[\"Condition Coverage\"]\n",
    "combined_mut_array = combined_df[\"Mutation Score\"]\n",
    "combined_bool_array = combined_df[\"Bug Present\"] == True\n",
    "\n",
    "combined_pb_cov = stats.pointbiserialr(combined_cov_array, combined_bool_array)\n",
    "\n",
    "md(\n",
    "f\"\"\"\n",
    "We calculate a Point-Biserial Correlation coefficient of\\\\\n",
    "r = ${combined_pb_cov[0]}$ with p-value\\\\\n",
    "p = ${combined_pb_cov[1]}$ for coverage and bugs existing in the combined projects.\n",
    "\"\"\"\n",
    ")\n"
   ]
  },
  {
   "cell_type": "code",
   "execution_count": null,
   "id": "be1ed849",
   "metadata": {},
   "outputs": [],
   "source": [
    "combined_pb_mut = stats.pointbiserialr(combined_mut_array, combined_bool_array)\n",
    "\n",
    "md(\n",
    "f\"\"\"\n",
    "We calculate a Point-Biserial Correlation coefficient of\\\\\n",
    "r = ${combined_pb_cov[0]}$ with p-value\\\\\n",
    "p = ${combined_pb_mut[1]}$ for mutation score and bugs existing in the combined projects.\n",
    "\"\"\"\n",
    ")"
   ]
  }
 ],
 "metadata": {
  "kernelspec": {
   "display_name": ".env",
   "language": "python",
   "name": "python3"
  },
  "language_info": {
   "codemirror_mode": {
    "name": "ipython",
    "version": 3
   },
   "file_extension": ".py",
   "mimetype": "text/x-python",
   "name": "python",
   "nbconvert_exporter": "python",
   "pygments_lexer": "ipython3",
   "version": "3.13.0"
  }
 },
 "nbformat": 4,
 "nbformat_minor": 5
}
